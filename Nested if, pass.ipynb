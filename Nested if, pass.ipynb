{
 "cells": [
  {
   "cell_type": "code",
   "execution_count": 5,
   "metadata": {},
   "outputs": [
    {
     "name": "stdout",
     "output_type": "stream",
     "text": [
      "Above the discounted price sale, not qualified for a discount!\n",
      "but great price!\n"
     ]
    }
   ],
   "source": [
    "carPrice = 5000\n",
    "discountPrice = 2500\n",
    "\n",
    "if carPrice > discountPrice: #nested if\n",
    "  print(\"Above the discounted price sale, not qualified for a discount!\")\n",
    "  if carPrice > 3000 and carPrice <= 5000:\n",
    "    print(\"but great price!\")\n",
    "  else:\n",
    "    print(\"Too, cheap\")"
   ]
  },
  {
   "cell_type": "code",
   "execution_count": null,
   "metadata": {},
   "outputs": [],
   "source": [
    "camel = 25\n",
    "tarshier = 15\n",
    "\n",
    "if b > a:\n",
    "  pass\n",
    "\n",
    "# if statements cannot be empty, but if you for \n",
    "# some reason have an if statement with no content,\n",
    "# put in the pass statement to avoid getting an error."
   ]
  }
 ],
 "metadata": {
  "kernelspec": {
   "display_name": "Python 3",
   "language": "python",
   "name": "python3"
  },
  "language_info": {
   "codemirror_mode": {
    "name": "ipython",
    "version": 3
   },
   "file_extension": ".py",
   "mimetype": "text/x-python",
   "name": "python",
   "nbconvert_exporter": "python",
   "pygments_lexer": "ipython3",
   "version": "3.8.5"
  }
 },
 "nbformat": 4,
 "nbformat_minor": 4
}

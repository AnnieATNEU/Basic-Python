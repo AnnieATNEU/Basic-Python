{
 "cells": [
  {
   "cell_type": "code",
   "execution_count": 10,
   "metadata": {},
   "outputs": [],
   "source": [
    "import re"
   ]
  },
  {
   "cell_type": "code",
   "execution_count": 3,
   "metadata": {},
   "outputs": [
    {
     "name": "stdout",
     "output_type": "stream",
     "text": [
      "Danvers, Massachusetts\n",
      "Salem, Massachusetts\n",
      "Peabody, Massachusetts\n"
     ]
    }
   ],
   "source": [
    "def city(states):  #city is the function\n",
    "  print(states +\",\"+\" Massachusetts\")\n",
    "\n",
    "city(\"Danvers\")\n",
    "city(\"Salem\")\n",
    "city(\"Peabody\")"
   ]
  },
  {
   "cell_type": "code",
   "execution_count": 12,
   "metadata": {},
   "outputs": [
    {
     "data": {
      "text/plain": [
       "['Annie', 'George', 'Kyle', 'Kyle', 'Jayson', 'Carolina', 'Patrick Carl']"
      ]
     },
     "execution_count": 12,
     "metadata": {},
     "output_type": "execute_result"
    }
   ],
   "source": [
    "names=[' AnnIe', 'GeorgE!', 'kyle', 'KyLe' , 'jayson', 'carolina##', 'Patrick carL?']\n",
    "\n",
    "#function that clean the string above\n",
    "def clean_strings(strings):\n",
    "    result = []\n",
    "    for value in strings:\n",
    "        value = value.strip()\n",
    "        value = re.sub('[!#?]','',value)\n",
    "        value = value.title() #returns Uppercase in first letter in every word\n",
    "        result.append(value)\n",
    "    return result\n",
    "\n",
    "clean_strings(names)"
   ]
  },
  {
   "cell_type": "code",
   "execution_count": 6,
   "metadata": {},
   "outputs": [
    {
     "name": "stdout",
     "output_type": "stream",
     "text": [
      "Hello beyoncé\n",
      "Hello Beyoncé\n",
      "Hello Beyoncé\n"
     ]
    }
   ],
   "source": [
    "def add(a, b):\n",
    "    return a + b\n",
    "\n",
    "\n",
    "def say_hello(name, capitalize=False):\n",
    "    if capitalize:\n",
    "        name = name.capitalize()\n",
    "    return 'Hello ' + name\n",
    "\n",
    "\n",
    "print(say_hello('beyoncé'))\n",
    "print(say_hello('beyoncé', True))\n",
    "print(say_hello(name='beyoncé', capitalize=True))"
   ]
  },
  {
   "cell_type": "code",
   "execution_count": null,
   "metadata": {},
   "outputs": [],
   "source": []
  }
 ],
 "metadata": {
  "kernelspec": {
   "display_name": "Python 3",
   "language": "python",
   "name": "python3"
  },
  "language_info": {
   "codemirror_mode": {
    "name": "ipython",
    "version": 3
   },
   "file_extension": ".py",
   "mimetype": "text/x-python",
   "name": "python",
   "nbconvert_exporter": "python",
   "pygments_lexer": "ipython3",
   "version": "3.8.5"
  }
 },
 "nbformat": 4,
 "nbformat_minor": 4
}

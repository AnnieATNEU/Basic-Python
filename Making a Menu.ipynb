{
 "cells": [
  {
   "cell_type": "code",
   "execution_count": 11,
   "metadata": {},
   "outputs": [
    {
     "name": "stdout",
     "output_type": "stream",
     "text": [
      "====================\n",
      "WELCOME TO SHIKSHAK\n",
      "Select your drinks\n",
      "[1] Coffee\n",
      "[2] Tea\n",
      "[0] Exit the program.\n",
      "====================\n",
      "Enter your option: 0\n",
      "Thank you\n"
     ]
    }
   ],
   "source": [
    "def menu():\n",
    "    print(\"====================\")\n",
    "    print(\"WELCOME TO SHIKSHAK\")\n",
    "    print(\"Select your drinks\")\n",
    "    print(\"[1] Coffee\")\n",
    "    print(\"[2] Tea\")\n",
    "    print(\"[0] Exit the program.\")\n",
    "    print(\"====================\")\n",
    "    \n",
    "menu()\n",
    "option = int(input(\"Enter your option: \"))\n",
    "\n",
    "while option !=0:\n",
    "    if option ==1:\n",
    "        #do option 1\n",
    "        print(\"Great, You chose coffee\")\n",
    "        break\n",
    "    elif option == 2:\n",
    "         #do option 2\n",
    "        print(\"Cool, You chose tea\")\n",
    "        break  # put break to halt the while loop  \n",
    "    else:\n",
    "         print(\"invalid option\")\n",
    "         break\n",
    "print(\"Thank you\")"
   ]
  },
  {
   "cell_type": "code",
   "execution_count": null,
   "metadata": {},
   "outputs": [],
   "source": []
  }
 ],
 "metadata": {
  "kernelspec": {
   "display_name": "Python 3",
   "language": "python",
   "name": "python3"
  },
  "language_info": {
   "codemirror_mode": {
    "name": "ipython",
    "version": 3
   },
   "file_extension": ".py",
   "mimetype": "text/x-python",
   "name": "python",
   "nbconvert_exporter": "python",
   "pygments_lexer": "ipython3",
   "version": "3.8.5"
  }
 },
 "nbformat": 4,
 "nbformat_minor": 4
}

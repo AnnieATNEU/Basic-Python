{
 "cells": [
  {
   "cell_type": "code",
   "execution_count": 4,
   "metadata": {},
   "outputs": [
    {
     "name": "stdout",
     "output_type": "stream",
     "text": [
      "Enter price:35\n",
      "The salesprice for this bag is 35 dollars\n"
     ]
    }
   ],
   "source": [
    "saleprice = input(\"Enter price:\")\n",
    "txt = \"The salesprice for this bag is {} dollars\"\n",
    "print(txt.format(saleprice))"
   ]
  },
  {
   "cell_type": "code",
   "execution_count": 10,
   "metadata": {},
   "outputs": [
    {
     "name": "stdout",
     "output_type": "stream",
     "text": [
      "Enter quantity:50\n",
      "Enter itemno:45663\n",
      "Enter price:200\n",
      "I want 50 pieces of item number 45663 for 200 dollars.\n"
     ]
    }
   ],
   "source": [
    "#multiple values\n",
    "quantity = input(\"Enter quantity:\")\n",
    "itemno = input(\"Enter itemno:\")\n",
    "price = input(\"Enter price:\")\n",
    "myorder = \"I want {} pieces of item number {} for {} dollars.\"\n",
    "print(myorder.format(quantity, itemno, price))"
   ]
  },
  {
   "cell_type": "code",
   "execution_count": null,
   "metadata": {},
   "outputs": [],
   "source": []
  }
 ],
 "metadata": {
  "kernelspec": {
   "display_name": "Python 3",
   "language": "python",
   "name": "python3"
  },
  "language_info": {
   "codemirror_mode": {
    "name": "ipython",
    "version": 3
   },
   "file_extension": ".py",
   "mimetype": "text/x-python",
   "name": "python",
   "nbconvert_exporter": "python",
   "pygments_lexer": "ipython3",
   "version": "3.8.5"
  }
 },
 "nbformat": 4,
 "nbformat_minor": 4
}

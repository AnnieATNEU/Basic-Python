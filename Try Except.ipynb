{
 "cells": [
  {
   "cell_type": "code",
   "execution_count": 4,
   "metadata": {},
   "outputs": [
    {
     "name": "stdout",
     "output_type": "stream",
     "text": [
      "123 0\n"
     ]
    }
   ],
   "source": [
    "\n",
    "def fn(val: Union[str,List[int]]) -> int:\n",
    "    try:\n",
    "        res = int(val)\n",
    "    except (ValueError,TypeError):\n",
    "        res = 0\n",
    "    return res\n",
    "\n",
    "print(fn(\"123\"),fn([]))"
   ]
  },
  {
   "cell_type": "code",
   "execution_count": 11,
   "metadata": {},
   "outputs": [
    {
     "name": "stdout",
     "output_type": "stream",
     "text": [
      "enter numerator: 4\n",
      "Enter denominator:2\n",
      "2.0\n"
     ]
    }
   ],
   "source": [
    "try: \n",
    "    numerator = int(input(\"enter numerator: \"))\n",
    "    denominator = int (input(\"Enter denominator:\"))\n",
    "    \n",
    "    result = numerator / denominator\n",
    "    print(result)\n",
    "except:\n",
    "    print(\"denominator cannot be 0. Please try again\")"
   ]
  },
  {
   "cell_type": "code",
   "execution_count": 12,
   "metadata": {},
   "outputs": [
    {
     "name": "stdout",
     "output_type": "stream",
     "text": [
      "enter numerator: 4\n",
      "Enter denominator:0\n",
      "denominator cannot be 0. Please try again\n"
     ]
    }
   ],
   "source": [
    "try: \n",
    "    numerator = int(input(\"enter numerator: \"))\n",
    "    denominator = int (input(\"Enter denominator:\"))\n",
    "    \n",
    "    result = numerator / denominator\n",
    "    print(result)\n",
    "except:\n",
    "    print(\"denominator cannot be 0. Please try again\")"
   ]
  },
  {
   "cell_type": "code",
   "execution_count": null,
   "metadata": {},
   "outputs": [],
   "source": [
    "try: \n",
    "    numerator = int(input(\"enter numerator: \"))\n",
    "    denominator = int(input(\"Enter denominator:\"))\n",
    "    \n",
    "    result = numerator / denominator\n",
    "    print(result)\n",
    "    \n",
    "    i = int(input(\"Enter index\"))\n",
    "    print(my_list[i])\n",
    "except ZeroDivisionError:\n",
    "    print(\"denominator cannot be 0. Please try again\")\n",
    "except IndexError:\n",
    "    print(\"Index cannot be greater than size of list.\")\n"
   ]
  },
  {
   "cell_type": "code",
   "execution_count": null,
   "metadata": {},
   "outputs": [],
   "source": [
    "try:\n",
    "    print(1/10)\n",
    "except: \n",
    "    print(\"Wrong denominator\")\n",
    "finally:\n",
    "    print(\"Always printed\")"
   ]
  },
  {
   "cell_type": "code",
   "execution_count": null,
   "metadata": {},
   "outputs": [],
   "source": []
  }
 ],
 "metadata": {
  "kernelspec": {
   "display_name": "Python 3",
   "language": "python",
   "name": "python3"
  },
  "language_info": {
   "codemirror_mode": {
    "name": "ipython",
    "version": 3
   },
   "file_extension": ".py",
   "mimetype": "text/x-python",
   "name": "python",
   "nbconvert_exporter": "python",
   "pygments_lexer": "ipython3",
   "version": "3.8.5"
  }
 },
 "nbformat": 4,
 "nbformat_minor": 4
}

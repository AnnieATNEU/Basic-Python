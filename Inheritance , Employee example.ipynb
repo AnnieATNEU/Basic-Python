{
 "cells": [
  {
   "cell_type": "code",
   "execution_count": 19,
   "metadata": {},
   "outputs": [
    {
     "name": "stdout",
     "output_type": "stream",
     "text": [
      "===================\n",
      "Employees\n",
      "********************\n",
      "John Doe \n",
      "Manager =  5000\n",
      "===================\n",
      "Mary Jackson \n",
      "cashier =  3000\n",
      "===================\n"
     ]
    }
   ],
   "source": [
    "class Person: #parents class\n",
    "  def __init__(self, fname, lname, role, salary):\n",
    "    self.firstname = fname\n",
    "    self.lastname = lname\n",
    "    self.role= role\n",
    "    self.salary=salary\n",
    "\n",
    "  def printname(self):\n",
    "    print(self.firstname, self.lastname, self.role, str(self.salary))\n",
    "\n",
    "#Use the Person class to create an object, and then execute the printname method:\n",
    "\n",
    "print('===================')\n",
    "print('Employees')\n",
    "x = Person(\"John\", \"Doe\", \"\\nManager = \", 5000)\n",
    "print('********************')\n",
    "x2 = Person(\"Mary\", \"Jackson\", \"\\ncashier = \",3000)\n",
    "x.printname()\n",
    "print('===================')\n",
    "x2.printname()\n",
    "print('===================')"
   ]
  },
  {
   "cell_type": "code",
   "execution_count": 22,
   "metadata": {},
   "outputs": [
    {
     "name": "stdout",
     "output_type": "stream",
     "text": [
      "Debby Perry \n",
      "Salesperson =  3000\n"
     ]
    }
   ],
   "source": [
    "class Student(Person): #child class\n",
    "  pass\n",
    "\n",
    "x = Student(\"Debby\", \"Perry\" , \"\\nSalesperson = \" , 3000)\n",
    "x.printname()\n"
   ]
  },
  {
   "cell_type": "code",
   "execution_count": null,
   "metadata": {},
   "outputs": [],
   "source": []
  }
 ],
 "metadata": {
  "kernelspec": {
   "display_name": "Python 3",
   "language": "python",
   "name": "python3"
  },
  "language_info": {
   "codemirror_mode": {
    "name": "ipython",
    "version": 3
   },
   "file_extension": ".py",
   "mimetype": "text/x-python",
   "name": "python",
   "nbconvert_exporter": "python",
   "pygments_lexer": "ipython3",
   "version": "3.8.5"
  }
 },
 "nbformat": 4,
 "nbformat_minor": 4
}

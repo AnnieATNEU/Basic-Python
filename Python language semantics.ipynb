{
 "cells": [
  {
   "cell_type": "code",
   "execution_count": 22,
   "metadata": {},
   "outputs": [
    {
     "name": "stdout",
     "output_type": "stream",
     "text": [
      "Scout\n"
     ]
    }
   ],
   "source": [
    "dog = \"Scout\"\n",
    "age = 4.5\n",
    "print(dog)"
   ]
  },
  {
   "cell_type": "code",
   "execution_count": 21,
   "metadata": {
    "scrolled": true
   },
   "outputs": [
    {
     "name": "stdout",
     "output_type": "stream",
     "text": [
      "My dogs name is Scout.\n",
      "He is 4.5 years old.\n"
     ]
    }
   ],
   "source": [
    "#to print data type must be same\n",
    "print(\"My dogs name is \" +dog +\".\"+ \"\\nHe is \"+str(age)+\" years old.\")\n"
   ]
  },
  {
   "cell_type": "code",
   "execution_count": 29,
   "metadata": {},
   "outputs": [
    {
     "name": "stdout",
     "output_type": "stream",
     "text": [
      "x is greater than y\n",
      "x is less than 55\n"
     ]
    }
   ],
   "source": [
    "#if else\n",
    "\n",
    "x=8\n",
    "y=5\n",
    "\n",
    "if x > y:\n",
    "    print('x is greater than y')\n",
    "if x < 55:\n",
    "    print('x is less than 55')\n",
    "else:\n",
    "    print('x is not greater than y')"
   ]
  },
  {
   "cell_type": "code",
   "execution_count": 30,
   "metadata": {},
   "outputs": [],
   "source": []
  },
  {
   "cell_type": "code",
   "execution_count": null,
   "metadata": {},
   "outputs": [],
   "source": []
  }
 ],
 "metadata": {
  "kernelspec": {
   "display_name": "Python 3",
   "language": "python",
   "name": "python3"
  },
  "language_info": {
   "codemirror_mode": {
    "name": "ipython",
    "version": 3
   },
   "file_extension": ".py",
   "mimetype": "text/x-python",
   "name": "python",
   "nbconvert_exporter": "python",
   "pygments_lexer": "ipython3",
   "version": "3.8.5"
  }
 },
 "nbformat": 4,
 "nbformat_minor": 4
}

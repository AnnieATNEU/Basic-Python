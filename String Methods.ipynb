{
 "cells": [
  {
   "cell_type": "code",
   "execution_count": 3,
   "metadata": {},
   "outputs": [
    {
     "name": "stdout",
     "output_type": "stream",
     "text": [
      "ANNIE DEQUIT\n",
      "annie dequit\n",
      "Annie Dequit\n",
      "T\n",
      "ANNI\n",
      " DEQUIT\n",
      "ANEDQI\n",
      "TIUQED EINNA\n",
      "12\n",
      "['ANNIE', 'DEQUIT']\n",
      "ANNIE DEQUIT\n"
     ]
    }
   ],
   "source": [
    "#Strings methods\n",
    "string = 'ANNIE DEQUIT'\n",
    "\n",
    "print(string.upper())\n",
    "print(string.lower())\n",
    "print(string.title())\n",
    "\n",
    "print(string[-1]) # -1 is the last element\n",
    "print(string[0:4]) #index 4 is excluded\n",
    "print(string[5:]) # index 5 til length\n",
    "print(string[::2]) #skipping every 2 letter\n",
    "print(string[::-1])\n",
    "print(len(string)) #length of string\n",
    "\n",
    "string_list = string.split() \n",
    "print(string_list) #splitting the string in a list\n",
    "print(' '.join(string_list)) #putting the list together with space\n"
   ]
  },
  {
   "cell_type": "code",
   "execution_count": null,
   "metadata": {},
   "outputs": [],
   "source": []
  }
 ],
 "metadata": {
  "kernelspec": {
   "display_name": "Python 3",
   "language": "python",
   "name": "python3"
  },
  "language_info": {
   "codemirror_mode": {
    "name": "ipython",
    "version": 3
   },
   "file_extension": ".py",
   "mimetype": "text/x-python",
   "name": "python",
   "nbconvert_exporter": "python",
   "pygments_lexer": "ipython3",
   "version": "3.8.5"
  }
 },
 "nbformat": 4,
 "nbformat_minor": 4
}

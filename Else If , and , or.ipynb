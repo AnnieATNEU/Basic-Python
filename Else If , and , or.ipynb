{
 "cells": [
  {
   "cell_type": "code",
   "execution_count": 2,
   "metadata": {},
   "outputs": [
    {
     "name": "stdout",
     "output_type": "stream",
     "text": [
      "Annie has a greater score than Jim\n"
     ]
    }
   ],
   "source": [
    "annie= 33\n",
    "jim = 25\n",
    "\n",
    "if annie > jim:\n",
    "    print('Annie has a greater score than Jim')\n",
    "elif annie == jim:\n",
    "    print('Annie and Jim have the same score')"
   ]
  },
  {
   "cell_type": "code",
   "execution_count": 3,
   "metadata": {},
   "outputs": [
    {
     "name": "stdout",
     "output_type": "stream",
     "text": [
      "Jim has a greater score than Annie\n"
     ]
    }
   ],
   "source": [
    "annie= 19\n",
    "jim = 25\n",
    "\n",
    "if annie > jim:\n",
    "    print('Annie has a greater score than Jim')\n",
    "elif annie == jim:\n",
    "    print('Annie and Jim have the same score')\n",
    "else:\n",
    "    print('Jim has a greater score than Annie')"
   ]
  },
  {
   "cell_type": "code",
   "execution_count": 5,
   "metadata": {},
   "outputs": [
    {
     "name": "stdout",
     "output_type": "stream",
     "text": [
      "Annie has a greater score than Jim\n"
     ]
    }
   ],
   "source": [
    "annie= 36\n",
    "jim = 25\n",
    "#and\n",
    "if annie > jim and annie==36:\n",
    "    print('Annie has a greater score than Jim')\n",
    "elif annie == jim:\n",
    "    print('Annie and Jim have the same score')\n",
    "else:\n",
    "    print('Jim has a greater score than Annie')"
   ]
  },
  {
   "cell_type": "code",
   "execution_count": 6,
   "metadata": {},
   "outputs": [
    {
     "name": "stdout",
     "output_type": "stream",
     "text": [
      "Annie has a greater score than Jim\n"
     ]
    }
   ],
   "source": [
    "annie= 36\n",
    "jim = 25\n",
    "# or \n",
    "if annie > jim or annie==65:\n",
    "    print('Annie has a greater score than Jim')\n",
    "elif annie == jim:\n",
    "    print('Annie and Jim have the same score')\n",
    "else:\n",
    "    print('Jim has a greater score than Annie')"
   ]
  },
  {
   "cell_type": "code",
   "execution_count": null,
   "metadata": {},
   "outputs": [],
   "source": []
  }
 ],
 "metadata": {
  "kernelspec": {
   "display_name": "Python 3",
   "language": "python",
   "name": "python3"
  },
  "language_info": {
   "codemirror_mode": {
    "name": "ipython",
    "version": 3
   },
   "file_extension": ".py",
   "mimetype": "text/x-python",
   "name": "python",
   "nbconvert_exporter": "python",
   "pygments_lexer": "ipython3",
   "version": "3.8.5"
  }
 },
 "nbformat": 4,
 "nbformat_minor": 4
}
